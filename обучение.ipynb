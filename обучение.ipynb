{
 "cells": [
  {
   "cell_type": "code",
   "execution_count": 18,
   "metadata": {},
   "outputs": [
    {
     "name": "stdout",
     "output_type": "stream",
     "text": [
      "Hello world\n"
     ]
    }
   ],
   "source": [
    "print(\"Hello world\")"
   ]
  },
  {
   "cell_type": "code",
   "execution_count": null,
   "metadata": {},
   "outputs": [],
   "source": [
    "print(5/5) # // целочисленное деление\n",
    "print(type(5)) # int - целое число\n",
    "print(5%5) # остаток от деления\n",
    "print(5**5) # в степень\n",
    "print(type(2.0)) # float - плавающая точка\n",
    "print(\"Hello world\")\n",
    "print(type(\"Hello world\")) # string - строка можно комбинировать \"\" ''\n",
    "print ('Hello,' + ' world') # concatanate, вычитать строки нельзя\n",
    "print (True, False) #boolean - логический тип данных\n",
    "print (type(True), type(False) )# поддерживает множественные выборки\n",
    "print (5>10, 10>5)\n",
    "print (5 !=5) # !одно не равно другому\n",
    "print (5 ==5) # равенство\n",
    "print (5 ==5 and 5<10) # если одно false то всё false, строгий оператор\n",
    "print (5 !=5 or 5<10) # не строгий оператор\n",
    "\n",
    "print (type(int('5'))) # перевод текстовых данных в числовой\n",
    "print (type(str(5))) # наоборот"
   ]
  },
  {
   "cell_type": "code",
   "execution_count": 20,
   "metadata": {},
   "outputs": [
    {
     "name": "stdout",
     "output_type": "stream",
     "text": [
      "True\n"
     ]
    }
   ],
   "source": [
    "#task2\n",
    "#2nd program\n",
    "print (9.99 > 9.98 and 1000 != 1000.1) #строгий опертор, так как одновременно\n"
   ]
  },
  {
   "cell_type": "code",
   "execution_count": 24,
   "metadata": {},
   "outputs": [
    {
     "name": "stdout",
     "output_type": "stream",
     "text": [
      "15.0\n"
     ]
    }
   ],
   "source": [
    "#task1\n",
    "#1st program\n",
    "print (9**0.5*5)"
   ]
  },
  {
   "cell_type": "code",
   "execution_count": 74,
   "metadata": {},
   "outputs": [
    {
     "name": "stdout",
     "output_type": "stream",
     "text": [
      "23 67\n",
      "23 67\n"
     ]
    }
   ],
   "source": [
    "#task3\n",
    "#3rd program\n",
    "print (1234%1000//10, 5678%1000//10) #требуемый вариант\n",
    "print(int((1234-4)/10-100), int((5678-8)/10-500)) # альтернатива \"колхоз edition\""
   ]
  },
  {
   "cell_type": "code",
   "execution_count": 89,
   "metadata": {},
   "outputs": [
    {
     "name": "stdout",
     "output_type": "stream",
     "text": [
      "True\n"
     ]
    }
   ],
   "source": [
    "#task4\n",
    "#4th program\n",
    "print (13.42*100%100 == 42.13//1 or 42.13*100%100 == 13.42//1)\n"
   ]
  }
 ],
 "metadata": {
  "kernelspec": {
   "display_name": "base",
   "language": "python",
   "name": "python3"
  },
  "language_info": {
   "codemirror_mode": {
    "name": "ipython",
    "version": 3
   },
   "file_extension": ".py",
   "mimetype": "text/x-python",
   "name": "python",
   "nbconvert_exporter": "python",
   "pygments_lexer": "ipython3",
   "version": "3.9.13"
  }
 },
 "nbformat": 4,
 "nbformat_minor": 2
}
